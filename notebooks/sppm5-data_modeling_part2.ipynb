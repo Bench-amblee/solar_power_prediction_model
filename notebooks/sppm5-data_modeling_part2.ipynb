{
 "cells": [
  {
   "cell_type": "markdown",
   "metadata": {},
   "source": [
    "# Solar Power Data Modeling Part 2"
   ]
  },
  {
   "cell_type": "markdown",
   "metadata": {},
   "source": [
    "#### Prepared By: Ben Chamblee -https://github.com/Bench-amblee"
   ]
  },
  {
   "cell_type": "markdown",
   "metadata": {},
   "source": [
    "## Contents"
   ]
  },
  {
   "cell_type": "markdown",
   "metadata": {},
   "source": [
    "* [Introduction](#Introduction)  \n",
    "* [Imports](#Imports)  \n",
    "* [Objectives](#Objectives)  \n",
    "* [Better Solar Panels](#Better_Solar_Panels)  \n",
    "* [How Much Extra Revenue Will Upgraded Arrays Generate?](#How_Much_Extra_Revenue_Will_Upgraded_Arrays_Generate?)  \n",
    "* [Conclusion](#Conclusion)  \n",
    "* [Future Plans](#Future_Plans)\n"
   ]
  },
  {
   "cell_type": "markdown",
   "metadata": {},
   "source": [
    "## Introduction"
   ]
  },
  {
   "cell_type": "markdown",
   "metadata": {},
   "source": [
    "## Imports"
   ]
  },
  {
   "cell_type": "code",
   "execution_count": 1,
   "metadata": {},
   "outputs": [],
   "source": [
    "import pandas as pd\n",
    "import numpy as np\n",
    "import matplotlib.pyplot as plt\n",
    "import seaborn as sns\n",
    "import datetime\n",
    "import pickle\n",
    "\n",
    "gandikota = pd.read_csv('Data/Plant1_Data_Cleaned.csv')\n",
    "gandikota_avg = pd.read_csv('Data/gandikota_averages.csv')\n",
    "gand_coefs = pd.read_csv('Data/gand_coefs.csv')\n",
    "noct = pd.read_csv('Data/noct_df.csv')\n",
    "gandikota_historical = pd.read_csv('Data/gandikota_historical.csv')\n",
    "solar_model = pickle.load(open('solar_power_prediction_model.sav', 'rb'))"
   ]
  },
  {
   "cell_type": "markdown",
   "metadata": {},
   "source": [
    "## Objectives\n",
    "\n",
    "- Test other NOCT values to see how much more power the plant could be generating\n",
    "- Find out how much extra revenue the plant could generate by generating more power"
   ]
  },
  {
   "cell_type": "markdown",
   "metadata": {},
   "source": [
    "## Better Solar Panels<a id='Better_Solar_Panels'></a>"
   ]
  },
  {
   "cell_type": "markdown",
   "metadata": {},
   "source": [
    "We determined in the exploratory analysis notebook that each solar array has a Nominal Operating Cell Temperature of around 18 degrees. \n",
    "\n",
    "According to https://www.weamerisolar.eu/what-is-nominal-operating-cell-temperature/ that is well below average, it seems like our arrays are well due for an upgrade\n",
    "\n",
    "So let's say we do upgrade them, what would it look like if the average NOCT was 48 degrees like the current industry standard?"
   ]
  },
  {
   "cell_type": "markdown",
   "metadata": {},
   "source": [
    "Lets look at one year: 2020, to see how much of a difference this would make. First we'll need to sort our data:"
   ]
  },
  {
   "cell_type": "code",
   "execution_count": 2,
   "metadata": {},
   "outputs": [],
   "source": [
    "datetimefix = [x[:-10] for x in gandikota_historical['dt_iso']]\n",
    "gandikota_historical['dt_iso'] = datetimefix\n",
    "gandikota_historical['dt_iso'] = pd.to_datetime(gandikota_historical['dt_iso'])"
   ]
  },
  {
   "cell_type": "code",
   "execution_count": 3,
   "metadata": {},
   "outputs": [],
   "source": [
    "date_2020_list = []\n",
    "current_2020 = 2020\n",
    "for i in range(len(gandikota_historical)):\n",
    "    date = gandikota_historical['dt_iso'][i]\n",
    "    if date.year == current_2020:\n",
    "        date_2020_list.append(date)"
   ]
  },
  {
   "cell_type": "markdown",
   "metadata": {},
   "source": [
    "This is very similar to what we did in the last notebook, now that we have a list of each date we can create a list for each temperature and irradiation value to use in our equation. The key difference though is that we're changing the NOCT value to 48"
   ]
  },
  {
   "cell_type": "code",
   "execution_count": 4,
   "metadata": {},
   "outputs": [],
   "source": [
    "power_2020 = []\n",
    "mod_2020 = []\n",
    "amb_2020 = []\n",
    "DC_2020 = []\n",
    "irr_2020 = []\n",
    "mod_2020_df = pd.DataFrame()\n",
    "\n",
    "for index,date in enumerate(date_2020_list):\n",
    "    temp = gandikota_historical[gandikota_historical['dt_iso'] == date]['temp']\n",
    "    temp = temp.values\n",
    "    amb_2020.append(temp[0])\n",
    "    irr = (gandikota_historical[gandikota_historical['dt_iso']==date]['irradiation']*100)\n",
    "    irr = irr.values\n",
    "    irr_2020.append(irr[0])\n",
    "    NOCT = noct['gandikota'][0]\n",
    "    mod = amb_2020[index] + ((NOCT - 20)/80)*irr\n",
    "    mod_2020.append(mod[0])\n",
    "for x in range(len(date_2020_list)):\n",
    "    DC = mod_2020[x]*gand_coefs['a'][0]\n",
    "    DC_2020.append(DC)\n",
    "\n",
    "mod_2020_df['DC'] = DC_2020\n",
    "mod_2020_df['amb'] = amb_2020\n",
    "mod_2020_df['mod'] = mod_2020\n",
    "mod_2020_df['irr'] = irr_2020\n",
    "    \n",
    "year_2020_pred = solar_model.predict(mod_2020_df)\n",
    "year_2020_pred = year_2020_pred*22*4\n"
   ]
  },
  {
   "cell_type": "code",
   "execution_count": 5,
   "metadata": {},
   "outputs": [],
   "source": [
    "power_2020_up = []\n",
    "mod_2020_up = []\n",
    "amb_2020_up = []\n",
    "DC_2020_up = []\n",
    "irr_2020_up = []\n",
    "mod_2020_df_up = pd.DataFrame()\n",
    "\n",
    "for index,date in enumerate(date_2020_list):\n",
    "    temp = gandikota_historical[gandikota_historical['dt_iso'] == date]['temp']\n",
    "    temp = temp.values\n",
    "    amb_2020_up.append(temp[0])\n",
    "    irr = (gandikota_historical[gandikota_historical['dt_iso']==date]['irradiation']*100)\n",
    "    irr = irr.values\n",
    "    irr_2020_up.append(irr[0])\n",
    "    NOCT = 48\n",
    "    mod = amb_2020[index] + ((NOCT - 20)/80)*irr\n",
    "    mod_2020_up.append(mod[0])\n",
    "for x in range(len(date_2020_list)):\n",
    "    DC = mod_2020[x]*gand_coefs['a'][0]\n",
    "    DC_2020_up.append(DC)\n",
    "\n",
    "mod_2020_df_up['DC'] = DC_2020_up\n",
    "mod_2020_df_up['amb'] = amb_2020_up\n",
    "mod_2020_df_up['mod'] = mod_2020_up\n",
    "mod_2020_df_up['irr'] = irr_2020_up \n",
    "\n",
    "year_2020_upgrade = solar_model.predict(mod_2020_df_up)\n",
    "\n",
    "year_2020_upgrade = year_2020_upgrade*22*4"
   ]
  },
  {
   "cell_type": "code",
   "execution_count": 6,
   "metadata": {},
   "outputs": [
    {
     "name": "stdout",
     "output_type": "stream",
     "text": [
      "Amount of kWs produced in 2020 (current NOCT): 1545069480.4345808 kWs\n",
      "Amount of kWs produced in 2020 (upgraded NOCT): 1736457633.887714 kWs\n",
      "Difference: 191388153.4531331 kWs\n"
     ]
    }
   ],
   "source": [
    "print('Amount of kWs produced in 2020 (current NOCT):',sum(year_2020_pred),'kWs')\n",
    "print('Amount of kWs produced in 2020 (upgraded NOCT):',sum(year_2020_upgrade),'kWs')\n",
    "print('Difference:',sum(year_2020_upgrade)-sum(year_2020_pred),'kWs')"
   ]
  },
  {
   "cell_type": "code",
   "execution_count": 7,
   "metadata": {},
   "outputs": [],
   "source": [
    "x_axis = []\n",
    "for i in range(len(year_2020_pred)):\n",
    "    x_axis.append(i)"
   ]
  },
  {
   "cell_type": "code",
   "execution_count": 8,
   "metadata": {},
   "outputs": [
    {
     "data": {
      "image/png": "[encoded data removed]",
      "text/plain": [
       "<Figure size 648x864 with 1 Axes>"
      ]
     },
     "metadata": {
      "needs_background": "light"
     },
     "output_type": "display_data"
    }
   ],
   "source": [
    "xtick_labels = ['Jan','Feb','Mar','Apr','May','Jun','Jul','Aug','Sep','Oct','Nov','Dec']\n",
    "fig,ax=plt.subplots(figsize=(9,12))\n",
    "ax.stackplot(x_axis,np.cumsum(year_2020_upgrade),\n",
    "             labels=['Upgraded NOCT'],color='#FF7F50')\n",
    "ax.stackplot(x_axis,np.cumsum(year_2020_pred),\n",
    "             labels= ['Current NOCT'],color='#C0C0C0')\n",
    "plt.title('Total Power Generated in 2020: Current NOCT vs Upgraded NOCT')\n",
    "x_ticks = np.arange(0, 8807, 800)\n",
    "plt.xticks(x_ticks)\n",
    "ax.set_xticklabels(xtick_labels)\n",
    "plt.xlabel('Months')\n",
    "plt.legend()\n",
    "ax.legend(loc='upper left')\n",
    "plt.ylabel('Power Generated (Billion kW/hrs)');"
   ]
  },
  {
   "cell_type": "markdown",
   "metadata": {},
   "source": [
    "## How Much Extra Revenue Will Upgraded Arrays Generate?<a id='How_Much_Extra_Revenue_Will_Upgraded_Arrays_Generate?'></a>"
   ]
  },
  {
   "cell_type": "markdown",
   "metadata": {},
   "source": [
    "It was difficult to find data on power generation rates in this part of India, but according to https://en.wikipedia.org/wiki/Power_sector_of_Andhra_Pradesh#Solar The current rate is:\n",
    "\n",
    "- 2.5 Rs ($0.033) per kW generated"
   ]
  },
  {
   "cell_type": "code",
   "execution_count": 9,
   "metadata": {},
   "outputs": [
    {
     "name": "stdout",
     "output_type": "stream",
     "text": [
      "Current NOCT yearly revenue: $ 50987292.85434117\n",
      "Upgraded NOCT yearly revenue: $ 57303101.918294564\n",
      "Difference $ 6315809.063953392\n"
     ]
    }
   ],
   "source": [
    "revenue_2020 = 0.033*sum(year_2020_pred)\n",
    "revenue_2020_up = 0.033*sum(year_2020_upgrade)\n",
    "\n",
    "print('Current NOCT yearly revenue: $',revenue_2020)\n",
    "print('Upgraded NOCT yearly revenue: $',revenue_2020_up)\n",
    "print('Difference $',(revenue_2020_up-revenue_2020))"
   ]
  },
  {
   "cell_type": "markdown",
   "metadata": {},
   "source": [
    "This extra 6.3 Million, plus the tax breaks they'll get (see https://www.iea.org/reports/projected-costs-of-generating-electricity-2020) for more details, should very well put them in a position where they can recuperate their losses in no time and generate even more profit!"
   ]
  },
  {
   "cell_type": "markdown",
   "metadata": {},
   "source": [
    "## Conclusion"
   ]
  },
  {
   "cell_type": "markdown",
   "metadata": {},
   "source": [
    "Running a solar plant is not an small feat, and certainly one that can't be accomplished without significant financial contributions. I have no idea who made the Gandikota solar farm, when it was made, or how long it's been running, however it seems as though it's time for an upgrade.\n",
    "\n",
    "The plant would have gained an additional $6.3 million, with smart investment strategies that could have gone on to pay more salaries, improve the plant's other important facilities, or expand the power plant to produce even more power. Upgrading an entire power plant is no easy task, but I think with what we now know about solar efficiency and the potential it has - upgrading seems like the best course of action\n",
    "\n",
    "With this analysis I not only learned a ton about how solar farms and solar panels operate, but also the importance of using current, efficient technology. In addition to this, the impressive performance of machine learning models cannot be understated. The fact that this gradient boosting model was able to predicted nearly as accurately as a scientifically-backed mathematical equation is amazing! \n",
    "\n",
    "If you've read this far, thank you so much for going through this data-journey with me! A full report and slides will be available on my github.\n"
   ]
  },
  {
   "cell_type": "markdown",
   "metadata": {},
   "source": [
    "## Future Plans<a id='Future_Plans'></a>"
   ]
  },
  {
   "cell_type": "markdown",
   "metadata": {},
   "source": [
    "openweathermap.org has an api that tracks the meteorological data of a location by coordinates! With this in mind I had to see what the weather in Gandikota was today (April 15th, 2021)"
   ]
  },
  {
   "cell_type": "code",
   "execution_count": 10,
   "metadata": {},
   "outputs": [
    {
     "data": {
      "text/plain": [
       "{'coord': {'lon': 78.2863, 'lat': 14.8149},\n",
       " 'weather': [{'id': 804,\n",
       "   'main': 'Clouds',\n",
       "   'description': 'overcast clouds',\n",
       "   'icon': '04n'}],\n",
       " 'base': 'stations',\n",
       " 'main': {'temp': 28.98,\n",
       "  'feels_like': 30.28,\n",
       "  'temp_min': 28.98,\n",
       "  'temp_max': 28.98,\n",
       "  'pressure': 1009,\n",
       "  'humidity': 55,\n",
       "  'sea_level': 1009,\n",
       "  'grnd_level': 977},\n",
       " 'visibility': 10000,\n",
       " 'wind': {'speed': 8.51, 'deg': 95, 'gust': 10.63},\n",
       " 'clouds': {'all': 92},\n",
       " 'dt': 1618501986,\n",
       " 'sys': {'country': 'IN', 'sunrise': 1618446766, 'sunset': 1618491637},\n",
       " 'timezone': 19800,\n",
       " 'id': 1269323,\n",
       " 'name': 'Jammalamadugu',\n",
       " 'cod': 200}"
      ]
     },
     "execution_count": 10,
     "metadata": {},
     "output_type": "execute_result"
    }
   ],
   "source": [
    "import requests\n",
    "url = 'https://api.openweathermap.org/data/2.5/weather?lat=14.8149&lon=78.2863&appid=aea0e44e37bc6bb1de652ad34919442d&units=metric'\n",
    "current_weather = requests.get(url)\n",
    "current_weather = current_weather.json()\n",
    "current_weather"
   ]
  },
  {
   "cell_type": "code",
   "execution_count": 11,
   "metadata": {},
   "outputs": [
    {
     "data": {
      "text/plain": [
       "28.98"
      ]
     },
     "execution_count": 11,
     "metadata": {},
     "output_type": "execute_result"
    }
   ],
   "source": [
    "current_weather['main']['temp']"
   ]
  },
  {
   "cell_type": "markdown",
   "metadata": {},
   "source": [
    "And if we apply the model we can determine how much power the gandikota plant is generating and how much it would be generating with upgraded arrays"
   ]
  },
  {
   "cell_type": "code",
   "execution_count": 12,
   "metadata": {},
   "outputs": [],
   "source": [
    "def current_power(temp,irr):\n",
    "    model_df = pd.DataFrame()\n",
    "    a_temp = []\n",
    "    m_temp = []\n",
    "    irradiation = []\n",
    "    DC_power = []\n",
    "    NOCT = noct['gandikota'][0]\n",
    "    a_temp.append(temp)\n",
    "    irradiation.append(irr)\n",
    "    \n",
    "    mod = a_temp + ((NOCT-20)/80)*irr\n",
    "    m_temp.append(mod)\n",
    "    \n",
    "    DC = mod*gand_coefs['a'][0]\n",
    "    DC_power.append(DC)\n",
    "    \n",
    "    model_df['a'] = a_temp\n",
    "    model_df['m'] = m_temp\n",
    "    model_df['i'] = irradiation\n",
    "    model_df['d'] = DC_power\n",
    "    \n",
    "    current_pred = solar_model.predict(model_df)\n",
    "    current_pred = current_pred*22*4\n",
    "    current_pred = np.mean(current_pred)\n",
    "    current_pred = int(current_pred)\n",
    "    result = str(current_pred) + ' kW/hr'\n",
    "    return result\n"
   ]
  },
  {
   "cell_type": "code",
   "execution_count": 13,
   "metadata": {},
   "outputs": [
    {
     "name": "stdout",
     "output_type": "stream",
     "text": [
      "At the current temperature and irradiation levels, the Gandikota Power Plant will produce 28483 kW/hr in the next hour\n"
     ]
    }
   ],
   "source": [
    "power_generation_rn = current_power(current_weather['main']['temp'],(1-current_weather['clouds']['all']))\n",
    "\n",
    "print('At the current temperature and irradiation levels, the Gandikota Power Plant will produce',power_generation_rn,'in the next hour')"
   ]
  },
  {
   "cell_type": "code",
   "execution_count": 22,
   "metadata": {},
   "outputs": [],
   "source": [
    "def current_power_upgraded(temp,irr):\n",
    "    model_df = pd.DataFrame()\n",
    "    a_temp = []\n",
    "    m_temp = []\n",
    "    irradiation = []\n",
    "    DC_power = []\n",
    "    NOCT = 48\n",
    "    \n",
    "    a_temp.append(temp)\n",
    "    irradiation.append(irr)\n",
    "    \n",
    "    mod = temp + ((NOCT-20)/80)*irr\n",
    "    m_temp.append(mod)\n",
    "    \n",
    "    DC = mod*gand_coefs['a'][0]\n",
    "    DC_power.append(DC)\n",
    "    \n",
    "    model_df['a'] = a_temp\n",
    "    model_df['m'] = m_temp\n",
    "    model_df['i'] = irradiation\n",
    "    model_df['d'] = DC_power\n",
    "    \n",
    "    current_pred = solar_model.predict(model_df)\n",
    "    current_pred = current_pred*22*4\n",
    "    current_pred = np.mean(current_pred)\n",
    "    current_pred = int(current_pred)\n",
    "    result = str(current_pred) + ' kW/hr'\n",
    "    return result"
   ]
  },
  {
   "cell_type": "code",
   "execution_count": 23,
   "metadata": {},
   "outputs": [
    {
     "name": "stdout",
     "output_type": "stream",
     "text": [
      "At the current temperature and irradiation levels, the Gandikota Power Plant (with upgraded solar arrays) will produce 28911 kW/hr in the next hour\n"
     ]
    }
   ],
   "source": [
    "power_generation_rn_upgraded = current_power_upgraded(current_weather['main']['temp'],(1-current_weather['clouds']['all']))\n",
    "\n",
    "print('At the current temperature and irradiation levels, the Gandikota Power Plant (with upgraded solar arrays) will produce',power_generation_rn_upgraded,'in the next hour')"
   ]
  },
  {
   "cell_type": "markdown",
   "metadata": {},
   "source": [
    "I'm planning on incorporating this into a web app that will provide live updates. That will also be on my github once I make it!"
   ]
  }
 ],
 "metadata": {
  "kernelspec": {
   "display_name": "Python 3",
   "language": "python",
   "name": "python3"
  },
  "language_info": {
   "codemirror_mode": {
    "name": "ipython",
    "version": 3
   },
   "file_extension": ".py",
   "mimetype": "text/x-python",
   "name": "python",
   "nbconvert_exporter": "python",
   "pygments_lexer": "ipython3",
   "version": "3.7.6"
  }
 },
 "nbformat": 4,
 "nbformat_minor": 4
}
